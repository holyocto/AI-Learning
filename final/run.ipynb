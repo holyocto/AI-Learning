{
 "cells": [
  {
   "cell_type": "code",
   "execution_count": 1,
   "id": "09b70cb2",
   "metadata": {},
   "outputs": [
    {
     "name": "stdout",
     "output_type": "stream",
     "text": [
      "클래스별 샘플 라벨 확인 결과:\n",
      "\n",
      "✅ pakimchi.v1i.yolov5pytorch → 샘플 파일: Img_039_0299_jpg.rf.9493ab30a69a99adc42a73cc0774db47.txt → 클래스 ID: 0\n",
      "✅ chonggakkimchi.v1i.yolov5pytorch → 샘플 파일: Img_038_0295_jpg.rf.c2942cce86b1953ed70fbd55eaebe9d8.txt → 클래스 ID: 0\n",
      "✅ Kkakdugi.v1i.yolov5pytorch → 샘플 파일: Img_030_0222_jpg.rf.fee61a8c209f59eb60559839cb01500b.txt → 클래스 ID: 0\n",
      "✅ Nabak Kimchi.v2i.yolov5pytorch → 샘플 파일: Img_031_0255_jpg.rf.28aa2941bbfbc3b6da220c84e24b9551.txt → 클래스 ID: 0\n",
      "✅ Gat Kimchi.v1i.yolov5pytorch → 샘플 파일: Img_029_0255_jpg.rf.f8bd6e34ece9ce88ddc3180605ee9028.txt → 클래스 ID: 0\n"
     ]
    }
   ],
   "source": [
    "import os\n",
    "\n",
    "# 클래스별 디렉토리\n",
    "base_dir = 'project'\n",
    "class_dirs = [\n",
    "    'pakimchi.v1i.yolov5pytorch',\n",
    "    'chonggakkimchi.v1i.yolov5pytorch',\n",
    "    'Kkakdugi.v1i.yolov5pytorch',\n",
    "    'Nabak Kimchi.v2i.yolov5pytorch',\n",
    "    'Gat Kimchi.v1i.yolov5pytorch',\n",
    "]\n",
    "\n",
    "print(\"클래스별 샘플 라벨 확인 결과:\\n\")\n",
    "\n",
    "for folder in class_dirs:\n",
    "    label_dir = os.path.join(base_dir, folder, 'train', 'labels')\n",
    "    label_files = [f for f in os.listdir(label_dir) if f.endswith('.txt')]\n",
    "\n",
    "    if not label_files:\n",
    "        print(f\"❌ {folder}: 라벨 파일 없음\")\n",
    "        continue\n",
    "\n",
    "    # 첫 번째 라벨 파일 읽기\n",
    "    sample_path = os.path.join(label_dir, label_files[0])\n",
    "    with open(sample_path, 'r') as f:\n",
    "        first_line = f.readline().strip()\n",
    "        class_id = first_line.split()[0] if first_line else 'empty'\n",
    "\n",
    "    print(f\"✅ {folder} → 샘플 파일: {label_files[0]} → 클래스 ID: {class_id}\")\n"
   ]
  },
  {
   "cell_type": "code",
   "execution_count": 5,
   "id": "bbc84e03",
   "metadata": {},
   "outputs": [
    {
     "name": "stdout",
     "output_type": "stream",
     "text": [
      "\n",
      "✅ 병합 완료! yolov5/data/kimchi 디렉토리를 확인하시오오\n"
     ]
    }
   ],
   "source": [
    "import os\n",
    "import shutil\n",
    "\n",
    "# 클래스별 경로와 ID 매핑\n",
    "base_dir = 'project'\n",
    "output_dir = 'yolov5/data/kimchi'\n",
    "class_dirs = {\n",
    "    'pakimchi.v1i.yolov5pytorch': 0,\n",
    "    'chonggakkimchi.v1i.yolov5pytorch': 1,\n",
    "    'Kkakdugi.v1i.yolov5pytorch': 2,\n",
    "    'Nabak Kimchi.v2i.yolov5pytorch': 3,\n",
    "    'Gat Kimchi.v1i.yolov5pytorch': 4,\n",
    "}\n",
    "\n",
    "# 출력 디렉토리 생성 (train, val, test)\n",
    "for split in ['train', 'val', 'test']:\n",
    "    for sub in ['images', 'labels']:\n",
    "        os.makedirs(os.path.join(output_dir, split, sub), exist_ok=True)\n",
    "\n",
    "# 라벨 ID 변경 함수\n",
    "def update_label_ids(label_path, new_id):\n",
    "    with open(label_path, 'r') as f:\n",
    "        lines = f.readlines()\n",
    "    with open(label_path, 'w') as f:\n",
    "        for line in lines:\n",
    "            parts = line.strip().split()\n",
    "            if parts:  # 빈 라인 방지\n",
    "                parts[0] = str(new_id)\n",
    "                f.write(' '.join(parts) + '\\n')\n",
    "\n",
    "# 병합 작업\n",
    "for folder, class_id in class_dirs.items():\n",
    "    for split in ['train', 'valid', 'test']:\n",
    "        img_dir = os.path.join(base_dir, folder, split, 'images')\n",
    "        lbl_dir = os.path.join(base_dir, folder, split, 'labels')\n",
    "\n",
    "        # 없는 폴더 건너뜀\n",
    "        if not os.path.exists(img_dir) or not os.path.exists(lbl_dir):\n",
    "            print(f\"[!] Skipping {folder} - No {split} set found.\")\n",
    "            continue\n",
    "\n",
    "        out_img_dir = os.path.join(output_dir, split if split != 'valid' else 'val', 'images')\n",
    "        out_lbl_dir = os.path.join(output_dir, split if split != 'valid' else 'val', 'labels')\n",
    "\n",
    "        for file in os.listdir(img_dir):\n",
    "            shutil.copy(os.path.join(img_dir, file), os.path.join(out_img_dir, file))\n",
    "\n",
    "        for file in os.listdir(lbl_dir):\n",
    "            label_path = os.path.join(lbl_dir, file)\n",
    "            update_label_ids(label_path, class_id)\n",
    "            shutil.copy(label_path, os.path.join(out_lbl_dir, file))\n",
    "\n",
    "print(\"\\n✅ 병합 완료! yolov5/data/kimchi 디렉토리를 확인하시오오\")\n"
   ]
  },
  {
   "cell_type": "code",
   "execution_count": 3,
   "id": "8b07e715",
   "metadata": {},
   "outputs": [
    {
     "name": "stdout",
     "output_type": "stream",
     "text": [
      "\n",
      "📂 TRAIN 객체 수:\n",
      "  Class 0: 650 objects\n",
      "  Class 1: 634 objects\n",
      "  Class 2: 226 objects\n",
      "  Class 3: 233 objects\n",
      "  Class 4: 209 objects\n",
      "\n",
      "📂 VAL 객체 수:\n",
      "  Class 0: 139 objects\n",
      "  Class 1: 136 objects\n",
      "  Class 2: 48 objects\n",
      "  Class 3: 49 objects\n",
      "  Class 4: 45 objects\n",
      "\n",
      "📂 TEST 객체 수:\n",
      "  Class 0: 139 objects\n",
      "  Class 1: 136 objects\n",
      "  Class 2: 50 objects\n",
      "  Class 3: 47 objects\n",
      "  Class 4: 45 objects\n"
     ]
    }
   ],
   "source": [
    "import os\n",
    "from collections import Counter\n",
    "\n",
    "# 기준 디렉토리\n",
    "label_root = 'yolov5/data/kimchi'\n",
    "splits = ['train', 'val', 'test']\n",
    "\n",
    "# 결과 저장용 딕셔너리\n",
    "split_class_counts = {}\n",
    "\n",
    "for split in splits:\n",
    "    label_dir = os.path.join(label_root, split, 'labels')\n",
    "    counter = Counter()\n",
    "\n",
    "    if not os.path.exists(label_dir):\n",
    "        print(f\"[!] {split}/labels 폴더 없음 - 건너뜀.\")\n",
    "        continue\n",
    "\n",
    "    for fname in os.listdir(label_dir):\n",
    "        if not fname.endswith('.txt'):\n",
    "            continue\n",
    "        with open(os.path.join(label_dir, fname), 'r') as f:\n",
    "            for line in f:\n",
    "                parts = line.strip().split()\n",
    "                if parts:\n",
    "                    class_id = parts[0]\n",
    "                    counter[class_id] += 1\n",
    "\n",
    "    split_class_counts[split] = counter\n",
    "\n",
    "# 출력\n",
    "for split in splits:\n",
    "    print(f\"\\n📂 {split.upper()} 객체 수:\")\n",
    "    counter = split_class_counts.get(split, {})\n",
    "    if not counter:\n",
    "        print(\"  (없음)\")\n",
    "        continue\n",
    "    for class_id in sorted(counter.keys(), key=int):\n",
    "        print(f\"  Class {class_id}: {counter[class_id]} objects\")\n"
   ]
  },
  {
   "cell_type": "code",
   "execution_count": 16,
   "id": "6bbb82c6",
   "metadata": {},
   "outputs": [
    {
     "name": "stdout",
     "output_type": "stream",
     "text": [
      "Requirement already satisfied: pyyaml in c:\\users\\ram\\appdata\\local\\programs\\python\\python310\\lib\\site-packages (6.0.2)\n",
      "Requirement already satisfied: tqdm in c:\\users\\ram\\appdata\\local\\programs\\python\\python310\\lib\\site-packages (4.67.1)\n",
      "Requirement already satisfied: colorama in c:\\users\\ram\\appdata\\roaming\\python\\python310\\site-packages (from tqdm) (0.4.6)\n",
      "Requirement already satisfied: opencv-python in c:\\users\\ram\\appdata\\local\\programs\\python\\python310\\lib\\site-packages (4.11.0.86)\n",
      "Requirement already satisfied: numpy>=1.21.2 in c:\\users\\ram\\appdata\\local\\programs\\python\\python310\\lib\\site-packages (from opencv-python) (2.2.6)\n",
      "Requirement already satisfied: pandas in c:\\users\\ram\\appdata\\local\\programs\\python\\python310\\lib\\site-packages (2.3.0)\n",
      "Requirement already satisfied: numpy>=1.22.4 in c:\\users\\ram\\appdata\\local\\programs\\python\\python310\\lib\\site-packages (from pandas) (2.2.6)\n",
      "Requirement already satisfied: python-dateutil>=2.8.2 in c:\\users\\ram\\appdata\\roaming\\python\\python310\\site-packages (from pandas) (2.9.0.post0)\n",
      "Requirement already satisfied: pytz>=2020.1 in c:\\users\\ram\\appdata\\local\\programs\\python\\python310\\lib\\site-packages (from pandas) (2025.2)\n",
      "Requirement already satisfied: tzdata>=2022.7 in c:\\users\\ram\\appdata\\local\\programs\\python\\python310\\lib\\site-packages (from pandas) (2025.2)\n",
      "Requirement already satisfied: six>=1.5 in c:\\users\\ram\\appdata\\roaming\\python\\python310\\site-packages (from python-dateutil>=2.8.2->pandas) (1.17.0)\n",
      "Requirement already satisfied: requests in c:\\users\\ram\\appdata\\local\\programs\\python\\python310\\lib\\site-packages (2.32.4)\n",
      "Requirement already satisfied: charset_normalizer<4,>=2 in c:\\users\\ram\\appdata\\local\\programs\\python\\python310\\lib\\site-packages (from requests) (3.4.2)\n",
      "Requirement already satisfied: idna<4,>=2.5 in c:\\users\\ram\\appdata\\local\\programs\\python\\python310\\lib\\site-packages (from requests) (3.10)\n",
      "Requirement already satisfied: urllib3<3,>=1.21.1 in c:\\users\\ram\\appdata\\local\\programs\\python\\python310\\lib\\site-packages (from requests) (2.5.0)\n",
      "Requirement already satisfied: certifi>=2017.4.17 in c:\\users\\ram\\appdata\\local\\programs\\python\\python310\\lib\\site-packages (from requests) (2025.6.15)\n",
      "Collecting seaborn\n",
      "  Downloading seaborn-0.13.2-py3-none-any.whl.metadata (5.4 kB)\n",
      "Requirement already satisfied: numpy!=1.24.0,>=1.20 in c:\\users\\ram\\appdata\\local\\programs\\python\\python310\\lib\\site-packages (from seaborn) (2.2.6)\n",
      "Requirement already satisfied: pandas>=1.2 in c:\\users\\ram\\appdata\\local\\programs\\python\\python310\\lib\\site-packages (from seaborn) (2.3.0)\n",
      "Requirement already satisfied: matplotlib!=3.6.1,>=3.4 in c:\\users\\ram\\appdata\\local\\programs\\python\\python310\\lib\\site-packages (from seaborn) (3.10.3)\n",
      "Requirement already satisfied: contourpy>=1.0.1 in c:\\users\\ram\\appdata\\local\\programs\\python\\python310\\lib\\site-packages (from matplotlib!=3.6.1,>=3.4->seaborn) (1.3.2)\n",
      "Requirement already satisfied: cycler>=0.10 in c:\\users\\ram\\appdata\\local\\programs\\python\\python310\\lib\\site-packages (from matplotlib!=3.6.1,>=3.4->seaborn) (0.12.1)\n",
      "Requirement already satisfied: fonttools>=4.22.0 in c:\\users\\ram\\appdata\\local\\programs\\python\\python310\\lib\\site-packages (from matplotlib!=3.6.1,>=3.4->seaborn) (4.58.4)\n",
      "Requirement already satisfied: kiwisolver>=1.3.1 in c:\\users\\ram\\appdata\\local\\programs\\python\\python310\\lib\\site-packages (from matplotlib!=3.6.1,>=3.4->seaborn) (1.4.8)\n",
      "Requirement already satisfied: packaging>=20.0 in c:\\users\\ram\\appdata\\roaming\\python\\python310\\site-packages (from matplotlib!=3.6.1,>=3.4->seaborn) (25.0)\n",
      "Requirement already satisfied: pillow>=8 in c:\\users\\ram\\appdata\\local\\programs\\python\\python310\\lib\\site-packages (from matplotlib!=3.6.1,>=3.4->seaborn) (11.0.0)\n",
      "Requirement already satisfied: pyparsing>=2.3.1 in c:\\users\\ram\\appdata\\local\\programs\\python\\python310\\lib\\site-packages (from matplotlib!=3.6.1,>=3.4->seaborn) (3.2.3)\n",
      "Requirement already satisfied: python-dateutil>=2.7 in c:\\users\\ram\\appdata\\roaming\\python\\python310\\site-packages (from matplotlib!=3.6.1,>=3.4->seaborn) (2.9.0.post0)\n",
      "Requirement already satisfied: pytz>=2020.1 in c:\\users\\ram\\appdata\\local\\programs\\python\\python310\\lib\\site-packages (from pandas>=1.2->seaborn) (2025.2)\n",
      "Requirement already satisfied: tzdata>=2022.7 in c:\\users\\ram\\appdata\\local\\programs\\python\\python310\\lib\\site-packages (from pandas>=1.2->seaborn) (2025.2)\n",
      "Requirement already satisfied: six>=1.5 in c:\\users\\ram\\appdata\\roaming\\python\\python310\\site-packages (from python-dateutil>=2.7->matplotlib!=3.6.1,>=3.4->seaborn) (1.17.0)\n",
      "Downloading seaborn-0.13.2-py3-none-any.whl (294 kB)\n",
      "Installing collected packages: seaborn\n",
      "Successfully installed seaborn-0.13.2\n"
     ]
    }
   ],
   "source": [
    "!pip install pyyaml\n",
    "!pip install tqdm\n",
    "!pip install opencv-python\n",
    "!pip install pandas\n",
    "!pip install requests\n",
    "!pip install seaborn"
   ]
  },
  {
   "cell_type": "code",
   "execution_count": null,
   "id": "c957e23f",
   "metadata": {},
   "outputs": [],
   "source": [
    "# 4. 테스트용 영상에서 인식 실행\n",
    "# your_video.mp4를 영상 경로로 교체하세요.\n",
    "!python detect.py --weights runs/train/kimchi_yolov5s/weights/best.pt \\\n",
    "                  --source /시각지능특론/final/yolov5/your_video.mp4 \\\n",
    "                  --conf 0.25 --save-txt --save-conf \\\n",
    "                  --project runs/detect --name kimchi_test\n",
    "\n",
    "# 5. 결과 영상 확인\n",
    "from IPython.display import Video\n",
    "Video(\"runs/detect/kimchi_test/your_video.mp4\", embed=True)"
   ]
  },
  {
   "cell_type": "code",
   "execution_count": 18,
   "id": "84338449",
   "metadata": {},
   "outputs": [
    {
     "name": "stdout",
     "output_type": "stream",
     "text": [
      "d:\\시각지능특론\\final\\yolov5\n",
      "^C\n"
     ]
    }
   ],
   "source": [
    "%cd /시각지능특론/final/yolov5\n",
    "!python train.py --img 640 --batch 16 --epochs 50 --data data/kimchi.yaml --weights yolov5s.pt --name kimchi_yolov5s"
   ]
  },
  {
   "cell_type": "code",
   "execution_count": null,
   "id": "d4d9f401",
   "metadata": {},
   "outputs": [
    {
     "name": "stdout",
     "output_type": "stream",
     "text": [
      "d:\\시각지능특론\\final\\yolov5\n"
     ]
    },
    {
     "name": "stderr",
     "output_type": "stream",
     "text": [
      "C:\\Users\\ram\\AppData\\Roaming\\Python\\Python310\\site-packages\\IPython\\core\\magics\\osm.py:417: UserWarning: This is now an optional IPython functionality, setting dhist requires you to install the `pickleshare` library.\n",
      "  self.shell.db['dhist'] = compress_dhist(dhist)[-100:]\n"
     ]
    }
   ],
   "source": [
    "%cd /시각지능특론/final/yolov5\n",
    "!python -u train.py --weights runs/train/kimchi_yolov5s/weights/last.pt \\\n",
    "                    --data data/kimchi.yaml --img 640 --batch 16 --epochs 50 \\\n",
    "                    --name kimchi_yolov5s --project runs/train --exist-ok > train_log.txt\n"
   ]
  }
 ],
 "metadata": {
  "kernelspec": {
   "display_name": "Python 3",
   "language": "python",
   "name": "python3"
  },
  "language_info": {
   "codemirror_mode": {
    "name": "ipython",
    "version": 3
   },
   "file_extension": ".py",
   "mimetype": "text/x-python",
   "name": "python",
   "nbconvert_exporter": "python",
   "pygments_lexer": "ipython3",
   "version": "3.10.11"
  }
 },
 "nbformat": 4,
 "nbformat_minor": 5
}

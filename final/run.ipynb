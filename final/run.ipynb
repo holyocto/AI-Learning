{
 "cells": [
  {
   "cell_type": "code",
   "execution_count": 1,
   "id": "09b70cb2",
   "metadata": {},
   "outputs": [
    {
     "name": "stdout",
     "output_type": "stream",
     "text": [
      "클래스별 샘플 라벨 확인 결과:\n",
      "\n",
      "✅ pakimchi.v1i.yolov5pytorch → 샘플 파일: Img_039_0299_jpg.rf.9493ab30a69a99adc42a73cc0774db47.txt → 클래스 ID: 0\n",
      "✅ chonggakkimchi.v1i.yolov5pytorch → 샘플 파일: Img_038_0295_jpg.rf.c2942cce86b1953ed70fbd55eaebe9d8.txt → 클래스 ID: 0\n",
      "✅ Kkakdugi.v1i.yolov5pytorch → 샘플 파일: Img_030_0222_jpg.rf.fee61a8c209f59eb60559839cb01500b.txt → 클래스 ID: 0\n",
      "✅ Nabak Kimchi.v2i.yolov5pytorch → 샘플 파일: Img_031_0255_jpg.rf.28aa2941bbfbc3b6da220c84e24b9551.txt → 클래스 ID: 0\n",
      "✅ Gat Kimchi.v1i.yolov5pytorch → 샘플 파일: Img_029_0255_jpg.rf.f8bd6e34ece9ce88ddc3180605ee9028.txt → 클래스 ID: 0\n"
     ]
    }
   ],
   "source": [
    "import os\n",
    "\n",
    "# 클래스별 디렉토리\n",
    "base_dir = 'project'\n",
    "class_dirs = [\n",
    "    'pakimchi.v1i.yolov5pytorch',\n",
    "    'chonggakkimchi.v1i.yolov5pytorch',\n",
    "    'Kkakdugi.v1i.yolov5pytorch',\n",
    "    'Nabak Kimchi.v2i.yolov5pytorch',\n",
    "    'Gat Kimchi.v1i.yolov5pytorch',\n",
    "]\n",
    "\n",
    "print(\"클래스별 샘플 라벨 확인 결과:\\n\")\n",
    "\n",
    "for folder in class_dirs:\n",
    "    label_dir = os.path.join(base_dir, folder, 'train', 'labels')\n",
    "    label_files = [f for f in os.listdir(label_dir) if f.endswith('.txt')]\n",
    "\n",
    "    if not label_files:\n",
    "        print(f\"❌ {folder}: 라벨 파일 없음\")\n",
    "        continue\n",
    "\n",
    "    # 첫 번째 라벨 파일 읽기\n",
    "    sample_path = os.path.join(label_dir, label_files[0])\n",
    "    with open(sample_path, 'r') as f:\n",
    "        first_line = f.readline().strip()\n",
    "        class_id = first_line.split()[0] if first_line else 'empty'\n",
    "\n",
    "    print(f\"✅ {folder} → 샘플 파일: {label_files[0]} → 클래스 ID: {class_id}\")\n"
   ]
  },
  {
   "cell_type": "code",
   "execution_count": 5,
   "id": "bbc84e03",
   "metadata": {},
   "outputs": [
    {
     "name": "stdout",
     "output_type": "stream",
     "text": [
      "\n",
      "✅ 병합 완료! yolov5/data/kimchi 디렉토리를 확인하시오오\n"
     ]
    }
   ],
   "source": [
    "import os\n",
    "import shutil\n",
    "\n",
    "# 클래스별 경로와 ID 매핑\n",
    "base_dir = 'project'\n",
    "output_dir = 'yolov5/data/kimchi'\n",
    "class_dirs = {\n",
    "    'pakimchi.v1i.yolov5pytorch': 0,\n",
    "    'chonggakkimchi.v1i.yolov5pytorch': 1,\n",
    "    'Kkakdugi.v1i.yolov5pytorch': 2,\n",
    "    'Nabak Kimchi.v2i.yolov5pytorch': 3,\n",
    "    'Gat Kimchi.v1i.yolov5pytorch': 4,\n",
    "}\n",
    "\n",
    "# 출력 디렉토리 생성 (train, val, test)\n",
    "for split in ['train', 'val', 'test']:\n",
    "    for sub in ['images', 'labels']:\n",
    "        os.makedirs(os.path.join(output_dir, split, sub), exist_ok=True)\n",
    "\n",
    "# 라벨 ID 변경 함수\n",
    "def update_label_ids(label_path, new_id):\n",
    "    with open(label_path, 'r') as f:\n",
    "        lines = f.readlines()\n",
    "    with open(label_path, 'w') as f:\n",
    "        for line in lines:\n",
    "            parts = line.strip().split()\n",
    "            if parts:  # 빈 라인 방지\n",
    "                parts[0] = str(new_id)\n",
    "                f.write(' '.join(parts) + '\\n')\n",
    "\n",
    "# 병합 작업\n",
    "for folder, class_id in class_dirs.items():\n",
    "    for split in ['train', 'valid', 'test']:\n",
    "        img_dir = os.path.join(base_dir, folder, split, 'images')\n",
    "        lbl_dir = os.path.join(base_dir, folder, split, 'labels')\n",
    "\n",
    "        # 없는 폴더 건너뜀\n",
    "        if not os.path.exists(img_dir) or not os.path.exists(lbl_dir):\n",
    "            print(f\"[!] Skipping {folder} - No {split} set found.\")\n",
    "            continue\n",
    "\n",
    "        out_img_dir = os.path.join(output_dir, split if split != 'valid' else 'val', 'images')\n",
    "        out_lbl_dir = os.path.join(output_dir, split if split != 'valid' else 'val', 'labels')\n",
    "\n",
    "        for file in os.listdir(img_dir):\n",
    "            shutil.copy(os.path.join(img_dir, file), os.path.join(out_img_dir, file))\n",
    "\n",
    "        for file in os.listdir(lbl_dir):\n",
    "            label_path = os.path.join(lbl_dir, file)\n",
    "            update_label_ids(label_path, class_id)\n",
    "            shutil.copy(label_path, os.path.join(out_lbl_dir, file))\n",
    "\n",
    "print(\"\\n✅ 병합 완료! yolov5/data/kimchi 디렉토리를 확인하시오오\")\n"
   ]
  },
  {
   "cell_type": "code",
   "execution_count": 3,
   "id": "8b07e715",
   "metadata": {},
   "outputs": [
    {
     "name": "stdout",
     "output_type": "stream",
     "text": [
      "\n",
      "📂 TRAIN 객체 수:\n",
      "  Class 0: 650 objects\n",
      "  Class 1: 634 objects\n",
      "  Class 2: 226 objects\n",
      "  Class 3: 233 objects\n",
      "  Class 4: 209 objects\n",
      "\n",
      "📂 VAL 객체 수:\n",
      "  Class 0: 139 objects\n",
      "  Class 1: 136 objects\n",
      "  Class 2: 48 objects\n",
      "  Class 3: 49 objects\n",
      "  Class 4: 45 objects\n",
      "\n",
      "📂 TEST 객체 수:\n",
      "  Class 0: 139 objects\n",
      "  Class 1: 136 objects\n",
      "  Class 2: 50 objects\n",
      "  Class 3: 47 objects\n",
      "  Class 4: 45 objects\n"
     ]
    }
   ],
   "source": [
    "import os\n",
    "from collections import Counter\n",
    "\n",
    "# 기준 디렉토리\n",
    "label_root = 'yolov5/data/kimchi'\n",
    "splits = ['train', 'val', 'test']\n",
    "\n",
    "# 결과 저장용 딕셔너리\n",
    "split_class_counts = {}\n",
    "\n",
    "for split in splits:\n",
    "    label_dir = os.path.join(label_root, split, 'labels')\n",
    "    counter = Counter()\n",
    "\n",
    "    if not os.path.exists(label_dir):\n",
    "        print(f\"[!] {split}/labels 폴더 없음 - 건너뜀.\")\n",
    "        continue\n",
    "\n",
    "    for fname in os.listdir(label_dir):\n",
    "        if not fname.endswith('.txt'):\n",
    "            continue\n",
    "        with open(os.path.join(label_dir, fname), 'r') as f:\n",
    "            for line in f:\n",
    "                parts = line.strip().split()\n",
    "                if parts:\n",
    "                    class_id = parts[0]\n",
    "                    counter[class_id] += 1\n",
    "\n",
    "    split_class_counts[split] = counter\n",
    "\n",
    "# 출력\n",
    "for split in splits:\n",
    "    print(f\"\\n📂 {split.upper()} 객체 수:\")\n",
    "    counter = split_class_counts.get(split, {})\n",
    "    if not counter:\n",
    "        print(\"  (없음)\")\n",
    "        continue\n",
    "    for class_id in sorted(counter.keys(), key=int):\n",
    "        print(f\"  Class {class_id}: {counter[class_id]} objects\")\n"
   ]
  },
  {
   "cell_type": "code",
   "execution_count": null,
   "id": "169af8dc",
   "metadata": {},
   "outputs": [],
   "source": [
    "!python -u train.py --img 640 --batch 16 --epochs 50 --data data/kimchi.yaml --weights yolov5s.pt --name kimchi_yolov5s"
   ]
  },
  {
   "cell_type": "code",
   "execution_count": null,
   "id": "df0fe7f0",
   "metadata": {},
   "outputs": [],
   "source": [
    "!python detect.py --weights runs/train/kimchi_yolov5s/weights/best.pt \\\n",
    "                  --source 검증.mp4 \\\n",
    "                  --conf 0.25 \\\n",
    "                  --project runs/detect --name kimchi_test"
   ]
  }
 ],
 "metadata": {
  "kernelspec": {
   "display_name": "Python 3",
   "language": "python",
   "name": "python3"
  },
  "language_info": {
   "codemirror_mode": {
    "name": "ipython",
    "version": 3
   },
   "file_extension": ".py",
   "mimetype": "text/x-python",
   "name": "python",
   "nbconvert_exporter": "python",
   "pygments_lexer": "ipython3",
   "version": "3.10.11"
  }
 },
 "nbformat": 4,
 "nbformat_minor": 5
}
